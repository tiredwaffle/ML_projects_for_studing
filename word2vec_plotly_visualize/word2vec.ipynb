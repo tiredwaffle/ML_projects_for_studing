{
  "nbformat": 4,
  "nbformat_minor": 0,
  "metadata": {
    "colab": {
      "name": "word2vec.ipynb",
      "provenance": []
    },
    "kernelspec": {
      "name": "python3",
      "display_name": "Python 3"
    }
  },
  "cells": [
    {
      "cell_type": "code",
      "metadata": {
        "id": "_EBezRxOksVo"
      },
      "source": [
        "from gensim.parsing.preprocessing import remove_stopwords\n",
        "from tqdm import tqdm\n",
        "import pandas as pd\n",
        "import pickle\n",
        "import string\n",
        "import json"
      ],
      "execution_count": 1,
      "outputs": []
    },
    {
      "cell_type": "markdown",
      "metadata": {
        "id": "bcT-KT_Yxhl6"
      },
      "source": [
        "## EDA"
      ]
    },
    {
      "cell_type": "code",
      "metadata": {
        "id": "F_zZcJKTmpgt"
      },
      "source": [
        "recipe_sources = ['ar', 'epi','fn']"
      ],
      "execution_count": 2,
      "outputs": []
    },
    {
      "cell_type": "code",
      "metadata": {
        "id": "LIXzVdFXm1t2"
      },
      "source": [
        "temp = json.load(open('/content/recipes_raw_nosource_ar.json','r'))\n",
        "temp"
      ],
      "execution_count": null,
      "outputs": []
    },
    {
      "cell_type": "code",
      "metadata": {
        "id": "EkD6mCFtnSMA"
      },
      "source": [
        "df = pd.DataFrame()\n",
        "sources, titles, ingredients, instructions = [], [], [], []\n",
        "for recipe_source in recipe_sources:\n",
        "    data = json.load(open(f'/content/recipes_raw_nosource_{recipe_source}.json', 'r'))\n",
        "    for _, recipe in data.items():\n",
        "        if ('title' in recipe) and ('ingredients' in recipe) and ('instructions' in recipe):\n",
        "            sources.append(recipe_source)  \n",
        "            titles.append(recipe['title'])      \n",
        "            ingredients.append([str(ingr) for ingr in recipe['ingredients'] if ingr!='ADVERTISEMENT']) \n",
        "            instructions.append(str(recipe['instructions']).replace('ADVERTISEMENT','').replace('\\n',''))\n",
        "df['source'] = sources\n",
        "df['title'] = titles\n",
        "df['ingredients'] = ingredients\n",
        "df['instructions'] = instructions"
      ],
      "execution_count": 11,
      "outputs": []
    },
    {
      "cell_type": "code",
      "metadata": {
        "id": "aLJsEnOsvKlR",
        "outputId": "0c62f1bd-8590-4ee4-84a2-5ba3754a53cc",
        "colab": {
          "base_uri": "https://localhost:8080/",
          "height": 293
        }
      },
      "source": [
        "df.head()"
      ],
      "execution_count": 12,
      "outputs": [
        {
          "output_type": "execute_result",
          "data": {
            "text/html": [
              "<div>\n",
              "<style scoped>\n",
              "    .dataframe tbody tr th:only-of-type {\n",
              "        vertical-align: middle;\n",
              "    }\n",
              "\n",
              "    .dataframe tbody tr th {\n",
              "        vertical-align: top;\n",
              "    }\n",
              "\n",
              "    .dataframe thead th {\n",
              "        text-align: right;\n",
              "    }\n",
              "</style>\n",
              "<table border=\"1\" class=\"dataframe\">\n",
              "  <thead>\n",
              "    <tr style=\"text-align: right;\">\n",
              "      <th></th>\n",
              "      <th>source</th>\n",
              "      <th>title</th>\n",
              "      <th>ingredients</th>\n",
              "      <th>instructions</th>\n",
              "    </tr>\n",
              "  </thead>\n",
              "  <tbody>\n",
              "    <tr>\n",
              "      <th>0</th>\n",
              "      <td>ar</td>\n",
              "      <td>Slow Cooker Chicken and Dumplings</td>\n",
              "      <td>[4 skinless, boneless chicken breast halves AD...</td>\n",
              "      <td>Place the chicken, butter, soup, and onion in ...</td>\n",
              "    </tr>\n",
              "    <tr>\n",
              "      <th>1</th>\n",
              "      <td>ar</td>\n",
              "      <td>Awesome Slow Cooker Pot Roast</td>\n",
              "      <td>[2 (10.75 ounce) cans condensed cream of mushr...</td>\n",
              "      <td>In a slow cooker, mix cream of mushroom soup, ...</td>\n",
              "    </tr>\n",
              "    <tr>\n",
              "      <th>2</th>\n",
              "      <td>ar</td>\n",
              "      <td>Brown Sugar Meatloaf</td>\n",
              "      <td>[1/2 cup packed brown sugar ADVERTISEMENT, 1/2...</td>\n",
              "      <td>Preheat oven to 350 degrees F (175 degrees C)....</td>\n",
              "    </tr>\n",
              "    <tr>\n",
              "      <th>3</th>\n",
              "      <td>ar</td>\n",
              "      <td>Best Chocolate Chip Cookies</td>\n",
              "      <td>[1 cup butter, softened ADVERTISEMENT, 1 cup w...</td>\n",
              "      <td>Preheat oven to 350 degrees F (175 degrees C)....</td>\n",
              "    </tr>\n",
              "    <tr>\n",
              "      <th>4</th>\n",
              "      <td>ar</td>\n",
              "      <td>Homemade Mac and Cheese Casserole</td>\n",
              "      <td>[8 ounces whole wheat rotini pasta ADVERTISEME...</td>\n",
              "      <td>Preheat oven to 350 degrees F. Line a 2-quart ...</td>\n",
              "    </tr>\n",
              "  </tbody>\n",
              "</table>\n",
              "</div>"
            ],
            "text/plain": [
              "  source  ...                                       instructions\n",
              "0     ar  ...  Place the chicken, butter, soup, and onion in ...\n",
              "1     ar  ...  In a slow cooker, mix cream of mushroom soup, ...\n",
              "2     ar  ...  Preheat oven to 350 degrees F (175 degrees C)....\n",
              "3     ar  ...  Preheat oven to 350 degrees F (175 degrees C)....\n",
              "4     ar  ...  Preheat oven to 350 degrees F. Line a 2-quart ...\n",
              "\n",
              "[5 rows x 4 columns]"
            ]
          },
          "metadata": {
            "tags": []
          },
          "execution_count": 12
        }
      ]
    },
    {
      "cell_type": "code",
      "metadata": {
        "id": "2xzsKKx2vXB-"
      },
      "source": [
        "to_remove = [\n",
        "    'tablespoon','tablespoons','teaspoon','teaspoons',\n",
        "    'tsp','tsps','tbsp','tbsps','pound','pounds',\n",
        "    'grams','mg','ounce''ounces','kg','crushed',\n",
        "    'chopped','finely','softened','cups','cup'\n",
        "]\n",
        "translation_table = str.maketrans('','',string.punctuation+string.digits)"
      ],
      "execution_count": 13,
      "outputs": []
    },
    {
      "cell_type": "code",
      "metadata": {
        "id": "OGUka2lQvysa"
      },
      "source": [
        "def preprocess(items):\n",
        "  res = []\n",
        "  for i, item in enumerate(items):\n",
        "    temp = item.lower().replace('-',' ')\n",
        "    temp = temp.translate(translation_table)\n",
        "    temp = remove_stopwords(temp)\n",
        "    for stop_word in to_remove:\n",
        "      temp = temp.replace(stop_word, '')\n",
        "    res.append(temp.split())\n",
        "  return res"
      ],
      "execution_count": 14,
      "outputs": []
    },
    {
      "cell_type": "code",
      "metadata": {
        "id": "cr7iK12swll9"
      },
      "source": [
        "instructions = df.instructions.values.tolist()\n",
        "ingredients = [', '.join(i) for i in df.ingredients.values.tolist()]"
      ],
      "execution_count": 16,
      "outputs": []
    },
    {
      "cell_type": "code",
      "metadata": {
        "id": "TJ6PJ3Ylw7kf"
      },
      "source": [
        "train_data = preprocess(instructions + ingredients)"
      ],
      "execution_count": 17,
      "outputs": []
    },
    {
      "cell_type": "code",
      "metadata": {
        "id": "StCO9wCSxBXP"
      },
      "source": [
        "with open('/content/train_data.pkl', 'wb') as f:\n",
        "  pickle.dump(train_data,f)"
      ],
      "execution_count": 21,
      "outputs": []
    },
    {
      "cell_type": "markdown",
      "metadata": {
        "id": "qpkQDOjzxjnH"
      },
      "source": [
        "## Word2vec"
      ]
    },
    {
      "cell_type": "code",
      "metadata": {
        "id": "tbnVYHX4zC9U"
      },
      "source": [
        "from gensim.models.word2vec import Word2Vec"
      ],
      "execution_count": 23,
      "outputs": []
    },
    {
      "cell_type": "code",
      "metadata": {
        "id": "ktsURdi-xgZf"
      },
      "source": [
        "model = Word2Vec()\n",
        "\n",
        "model.build_vocab(train_data)"
      ],
      "execution_count": 24,
      "outputs": []
    },
    {
      "cell_type": "code",
      "metadata": {
        "id": "LR3XEHqLztQm",
        "outputId": "8e179087-d9e1-42cb-9d2f-252d450f9d08",
        "colab": {
          "base_uri": "https://localhost:8080/",
          "height": 72
        }
      },
      "source": [
        "%%time\n",
        "model.train(train_data, total_examples=model.corpus_count, \n",
        "            epochs = model.epochs)"
      ],
      "execution_count": 27,
      "outputs": [
        {
          "output_type": "stream",
          "text": [
            "CPU times: user 3min 38s, sys: 896 ms, total: 3min 39s\n",
            "Wall time: 1min 53s\n"
          ],
          "name": "stdout"
        },
        {
          "output_type": "execute_result",
          "data": {
            "text/plain": [
              "(67964826, 81996930)"
            ]
          },
          "metadata": {
            "tags": []
          },
          "execution_count": 27
        }
      ]
    },
    {
      "cell_type": "code",
      "metadata": {
        "id": "o05edH56z8Yt",
        "outputId": "4a936330-5091-4c30-f788-3286b77dffd0",
        "colab": {
          "base_uri": "https://localhost:8080/",
          "height": 444
        }
      },
      "source": [
        "try:\n",
        "  print(*model.wv.most_similar(['orange'], topn = 20), sep = '\\n')\n",
        "except KeyError as e:\n",
        "  print(f'The ingredient not in the list ({str(e)}).')"
      ],
      "execution_count": 47,
      "outputs": [
        {
          "output_type": "stream",
          "text": [
            "('tangerine', 0.8844500184059143)\n",
            "('lemon', 0.8269450664520264)\n",
            "('clementine', 0.7914227843284607)\n",
            "('citrus', 0.7482976913452148)\n",
            "('grapefruit', 0.7286081314086914)\n",
            "('satsuma', 0.7212076783180237)\n",
            "('lime', 0.7088994979858398)\n",
            "('limes', 0.6737093925476074)\n",
            "('tangelo', 0.6602089405059814)\n",
            "('tangerines', 0.6413543224334717)\n",
            "('lemons', 0.6404346227645874)\n",
            "('oranges', 0.6371762752532959)\n",
            "('yuzu', 0.6045023202896118)\n",
            "('clementines', 0.5891534090042114)\n",
            "('pineapple', 0.5866617560386658)\n",
            "('extractor', 0.5537314414978027)\n",
            "('pomegranate', 0.544706404209137)\n",
            "('emon', 0.5357046127319336)\n",
            "('apple', 0.5227352380752563)\n",
            "('kumquat', 0.5181835889816284)\n"
          ],
          "name": "stdout"
        },
        {
          "output_type": "stream",
          "text": [
            "/usr/local/lib/python3.6/dist-packages/gensim/matutils.py:737: FutureWarning: Conversion of the second argument of issubdtype from `int` to `np.signedinteger` is deprecated. In future, it will be treated as `np.int64 == np.dtype(int).type`.\n",
            "  if np.issubdtype(vec.dtype, np.int):\n"
          ],
          "name": "stderr"
        }
      ]
    },
    {
      "cell_type": "markdown",
      "metadata": {
        "id": "pVKlbjfH1q5d"
      },
      "source": [
        "## Results"
      ]
    },
    {
      "cell_type": "code",
      "metadata": {
        "id": "YEWMH9bC1eCf"
      },
      "source": [
        "from sklearn.metrics.pairwise import cosine_similarity\n",
        "import numpy as np\n",
        "\n",
        "import matplotlib\n",
        "%matplotlib inline\n",
        "%config InlineBackend.figure_format = 'svg'\n",
        "import matplotlib.pyplot as plt\n",
        "plt.style.use('ggplot')\n",
        "\n",
        "import random\n",
        "random.seed(3)"
      ],
      "execution_count": 43,
      "outputs": []
    },
    {
      "cell_type": "code",
      "metadata": {
        "id": "8bbQsqVC1vQL",
        "outputId": "86cd43a2-7e23-4dbf-ae43-0219a36d0c35",
        "colab": {
          "base_uri": "https://localhost:8080/",
          "height": 35
        }
      },
      "source": [
        "with open('/content/items_for_sale.txt','r') as f:\n",
        "  items_for_sale = f.read().split('\\n')\n",
        "\n",
        "items_for_sale[:5]"
      ],
      "execution_count": 51,
      "outputs": [
        {
          "output_type": "execute_result",
          "data": {
            "text/plain": [
              "['salt', 'pepper', 'fresh', 'oil', 'sugar']"
            ]
          },
          "metadata": {
            "tags": []
          },
          "execution_count": 51
        }
      ]
    },
    {
      "cell_type": "code",
      "metadata": {
        "id": "XhvzIfd-5K_P"
      },
      "source": [
        "words, vectors = [],[]\n",
        "for item in items_for_sale:\n",
        "  try:\n",
        "    vectors.append(model.wv.get_vector(item))\n",
        "    words.append(item)\n",
        "  except KeyError as e:\n",
        "    print('Not found')"
      ],
      "execution_count": 52,
      "outputs": []
    },
    {
      "cell_type": "code",
      "metadata": {
        "id": "oiv9qh1b6QvW",
        "outputId": "86706107-1241-4be5-8274-b021c1137935",
        "colab": {
          "base_uri": "https://localhost:8080/",
          "height": 405
        }
      },
      "source": [
        "vectors[0]"
      ],
      "execution_count": 53,
      "outputs": [
        {
          "output_type": "execute_result",
          "data": {
            "text/plain": [
              "array([-1.2503681 , -2.3000314 ,  1.3105842 ,  0.44794148,  2.0273228 ,\n",
              "       -2.501133  , -0.82536227,  2.248839  , -0.5088767 ,  1.017733  ,\n",
              "       -0.936727  ,  2.581491  , -2.3961623 ,  0.3121697 , -2.0187864 ,\n",
              "       -0.72237647, -0.34622753, -0.04261944,  0.99243987,  3.724108  ,\n",
              "        2.2593248 , -1.7718651 ,  1.4715282 , -0.27701443, -3.5373633 ,\n",
              "       -0.02612181, -2.7941086 ,  1.4699851 ,  1.2070311 ,  2.9987547 ,\n",
              "        5.369668  , -0.29096955,  3.096456  , -2.2552106 ,  0.9809803 ,\n",
              "        0.83035755, -0.592995  , -1.9773564 , -0.9428718 , -3.6601713 ,\n",
              "       -0.08732396, -2.3152914 ,  1.5925027 ,  4.319083  , -1.9513032 ,\n",
              "        0.443147  , -0.44963607, -0.30167946, -0.67255616,  2.1585767 ,\n",
              "       -2.28301   ,  1.1514611 ,  1.3487513 , -0.8489407 ,  0.48071823,\n",
              "       -0.6677648 , -0.41976202,  0.63602084, -0.8562882 ,  0.96987677,\n",
              "       -2.092464  , -0.3394428 , -1.348504  ,  0.69605833,  0.93396527,\n",
              "        4.016599  ,  0.09355919,  1.2736329 , -0.6851595 , -3.2993104 ,\n",
              "       -1.2833853 , -0.9258173 , -0.645325  , -3.7595081 , -5.6605215 ,\n",
              "       -1.5699557 ,  0.25913832, -2.160225  , -0.71603286,  0.3352067 ,\n",
              "       -0.8315886 , -5.2462344 ,  0.62394774, -0.80679864,  6.453697  ,\n",
              "       -1.0037942 , -0.29266456, -1.9101387 , -1.8242124 ,  1.6944026 ,\n",
              "        2.4036152 , -0.9987572 , -3.1479099 ,  0.808279  ,  2.2748544 ,\n",
              "        2.0491211 , -1.0195718 ,  1.3472557 , -2.6620014 , -1.9024067 ],\n",
              "      dtype=float32)"
            ]
          },
          "metadata": {
            "tags": []
          },
          "execution_count": 53
        }
      ]
    },
    {
      "cell_type": "code",
      "metadata": {
        "id": "iIuwKIcN6Tvo"
      },
      "source": [
        "sims = cosine_similarity(vectors,vectors)"
      ],
      "execution_count": 54,
      "outputs": []
    },
    {
      "cell_type": "code",
      "metadata": {
        "id": "HumYI8Kk6gPy"
      },
      "source": [
        "for i in range(len(vectors)):\n",
        "  sims[i,i] = False"
      ],
      "execution_count": 56,
      "outputs": []
    },
    {
      "cell_type": "code",
      "metadata": {
        "id": "pyBIqGvE66re"
      },
      "source": [
        "k = 20\n",
        "indices = list(range(len(vectors)))\n",
        "\n",
        "random.shuffle(indices)\n",
        "\n",
        "indices = indices[:k]"
      ],
      "execution_count": 63,
      "outputs": []
    },
    {
      "cell_type": "code",
      "metadata": {
        "id": "E4KTi1Af7LSl"
      },
      "source": [
        "small_vectors = [vectors[i] for i in indices]\n",
        "small_words = [words[i] for i in indices]\n",
        "\n",
        "small_sims = cosine_similarity(small_vectors,small_vectors)\n",
        "for i in range(len(small_vectors)):\n",
        "  small_sims[i,i] = False"
      ],
      "execution_count": 64,
      "outputs": []
    },
    {
      "cell_type": "code",
      "metadata": {
        "id": "v9kBGF5d7dDX",
        "outputId": "e8627c6e-121d-4617-e781-20458a3c286e",
        "colab": {
          "base_uri": "https://localhost:8080/",
          "height": 395
        }
      },
      "source": [
        "fig, ax = plt.subplots()\n",
        "im = ax.imshow(small_sims)\n",
        "\n",
        "ax.set_xticks(np.arange(len(small_vectors)))\n",
        "ax.set_yticks(np.arange(len(small_vectors)))\n",
        "\n",
        "ax.set_xticklabels(small_words)\n",
        "ax.set_yticklabels(small_words)\n",
        "ax.grid(False)\n",
        "\n",
        "plt.setp(ax.get_xticklabels(), rotation=90)\n",
        "\n",
        "fig.tight_layout()\n",
        "plt.show()"
      ],
      "execution_count": 65,
      "outputs": [
        {
          "output_type": "display_data",
          "data": {
            "text/plain": [
              "<Figure size 432x288 with 1 Axes>"
            ],
            "image/svg+xml": "<?xml version=\"1.0\" encoding=\"utf-8\" standalone=\"no\"?>\n<!DOCTYPE svg PUBLIC \"-//W3C//DTD SVG 1.1//EN\"\n  \"http://www.w3.org/Graphics/SVG/1.1/DTD/svg11.dtd\">\n<!-- Created with matplotlib (https://matplotlib.org/) -->\n<svg height=\"280.684375pt\" version=\"1.1\" viewBox=\"0 0 280.684375 280.684375\" width=\"280.684375pt\" xmlns=\"http://www.w3.org/2000/svg\" xmlns:xlink=\"http://www.w3.org/1999/xlink\">\n <defs>\n  <style type=\"text/css\">\n*{stroke-linecap:butt;stroke-linejoin:round;}\n  </style>\n </defs>\n <g id=\"figure_1\">\n  <g id=\"patch_1\">\n   <path d=\"M 0 280.684375 \nL 280.684375 280.684375 \nL 280.684375 0 \nL 0 0 \nz\n\" style=\"fill:#ffffff;\"/>\n  </g>\n  <g id=\"axes_1\">\n   <g id=\"patch_2\">\n    <path d=\"M 70.459375 210.225 \nL 273.484375 210.225 \nL 273.484375 7.2 \nL 70.459375 7.2 \nz\n\" style=\"fill:#e5e5e5;\"/>\n   </g>\n   <g clip-path=\"url(#pec1903613c)\">\n    <image height=\"204\" id=\"image1afd2687bb\" transform=\"scale(1 -1)translate(0 -204)\" width=\"204\" x=\"70.459375\" xlink:href=\"data:image/png;base64,\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\" y=\"-6.225\"/>\n   </g>\n   <g id=\"matplotlib.axis_1\">\n    <g id=\"xtick_1\">\n     <g id=\"line2d_1\">\n      <defs>\n       <path d=\"M 0 0 \nL 0 3.5 \n\" id=\"mdd73d6bcf1\" style=\"stroke:#555555;stroke-width:0.8;\"/>\n      </defs>\n      <g>\n       <use style=\"fill:#555555;stroke:#555555;stroke-width:0.8;\" x=\"75.535\" xlink:href=\"#mdd73d6bcf1\" y=\"210.225\"/>\n      </g>\n     </g>\n     <g id=\"text_1\">\n      <!-- watercress -->\n      <defs>\n       <path d=\"M 4.203125 54.6875 \nL 13.1875 54.6875 \nL 24.421875 12.015625 \nL 35.59375 54.6875 \nL 46.1875 54.6875 \nL 57.421875 12.015625 \nL 68.609375 54.6875 \nL 77.59375 54.6875 \nL 63.28125 0 \nL 52.6875 0 \nL 40.921875 44.828125 \nL 29.109375 0 \nL 18.5 0 \nz\n\" id=\"DejaVuSans-119\"/>\n       <path d=\"M 34.28125 27.484375 \nQ 23.390625 27.484375 19.1875 25 \nQ 14.984375 22.515625 14.984375 16.5 \nQ 14.984375 11.71875 18.140625 8.90625 \nQ 21.296875 6.109375 26.703125 6.109375 \nQ 34.1875 6.109375 38.703125 11.40625 \nQ 43.21875 16.703125 43.21875 25.484375 \nL 43.21875 27.484375 \nz\nM 52.203125 31.203125 \nL 52.203125 0 \nL 43.21875 0 \nL 43.21875 8.296875 \nQ 40.140625 3.328125 35.546875 0.953125 \nQ 30.953125 -1.421875 24.3125 -1.421875 \nQ 15.921875 -1.421875 10.953125 3.296875 \nQ 6 8.015625 6 15.921875 \nQ 6 25.140625 12.171875 29.828125 \nQ 18.359375 34.515625 30.609375 34.515625 \nL 43.21875 34.515625 \nL 43.21875 35.40625 \nQ 43.21875 41.609375 39.140625 45 \nQ 35.0625 48.390625 27.6875 48.390625 \nQ 23 48.390625 18.546875 47.265625 \nQ 14.109375 46.140625 10.015625 43.890625 \nL 10.015625 52.203125 \nQ 14.9375 54.109375 19.578125 55.046875 \nQ 24.21875 56 28.609375 56 \nQ 40.484375 56 46.34375 49.84375 \nQ 52.203125 43.703125 52.203125 31.203125 \nz\n\" id=\"DejaVuSans-97\"/>\n       <path d=\"M 18.3125 70.21875 \nL 18.3125 54.6875 \nL 36.8125 54.6875 \nL 36.8125 47.703125 \nL 18.3125 47.703125 \nL 18.3125 18.015625 \nQ 18.3125 11.328125 20.140625 9.421875 \nQ 21.96875 7.515625 27.59375 7.515625 \nL 36.8125 7.515625 \nL 36.8125 0 \nL 27.59375 0 \nQ 17.1875 0 13.234375 3.875 \nQ 9.28125 7.765625 9.28125 18.015625 \nL 9.28125 47.703125 \nL 2.6875 47.703125 \nL 2.6875 54.6875 \nL 9.28125 54.6875 \nL 9.28125 70.21875 \nz\n\" id=\"DejaVuSans-116\"/>\n       <path d=\"M 56.203125 29.59375 \nL 56.203125 25.203125 \nL 14.890625 25.203125 \nQ 15.484375 15.921875 20.484375 11.0625 \nQ 25.484375 6.203125 34.421875 6.203125 \nQ 39.59375 6.203125 44.453125 7.46875 \nQ 49.3125 8.734375 54.109375 11.28125 \nL 54.109375 2.78125 \nQ 49.265625 0.734375 44.1875 -0.34375 \nQ 39.109375 -1.421875 33.890625 -1.421875 \nQ 20.796875 -1.421875 13.15625 6.1875 \nQ 5.515625 13.8125 5.515625 26.8125 \nQ 5.515625 40.234375 12.765625 48.109375 \nQ 20.015625 56 32.328125 56 \nQ 43.359375 56 49.78125 48.890625 \nQ 56.203125 41.796875 56.203125 29.59375 \nz\nM 47.21875 32.234375 \nQ 47.125 39.59375 43.09375 43.984375 \nQ 39.0625 48.390625 32.421875 48.390625 \nQ 24.90625 48.390625 20.390625 44.140625 \nQ 15.875 39.890625 15.1875 32.171875 \nz\n\" id=\"DejaVuSans-101\"/>\n       <path d=\"M 41.109375 46.296875 \nQ 39.59375 47.171875 37.8125 47.578125 \nQ 36.03125 48 33.890625 48 \nQ 26.265625 48 22.1875 43.046875 \nQ 18.109375 38.09375 18.109375 28.8125 \nL 18.109375 0 \nL 9.078125 0 \nL 9.078125 54.6875 \nL 18.109375 54.6875 \nL 18.109375 46.1875 \nQ 20.953125 51.171875 25.484375 53.578125 \nQ 30.03125 56 36.53125 56 \nQ 37.453125 56 38.578125 55.875 \nQ 39.703125 55.765625 41.0625 55.515625 \nz\n\" id=\"DejaVuSans-114\"/>\n       <path d=\"M 48.78125 52.59375 \nL 48.78125 44.1875 \nQ 44.96875 46.296875 41.140625 47.34375 \nQ 37.3125 48.390625 33.40625 48.390625 \nQ 24.65625 48.390625 19.8125 42.84375 \nQ 14.984375 37.3125 14.984375 27.296875 \nQ 14.984375 17.28125 19.8125 11.734375 \nQ 24.65625 6.203125 33.40625 6.203125 \nQ 37.3125 6.203125 41.140625 7.25 \nQ 44.96875 8.296875 48.78125 10.40625 \nL 48.78125 2.09375 \nQ 45.015625 0.34375 40.984375 -0.53125 \nQ 36.96875 -1.421875 32.421875 -1.421875 \nQ 20.0625 -1.421875 12.78125 6.34375 \nQ 5.515625 14.109375 5.515625 27.296875 \nQ 5.515625 40.671875 12.859375 48.328125 \nQ 20.21875 56 33.015625 56 \nQ 37.15625 56 41.109375 55.140625 \nQ 45.0625 54.296875 48.78125 52.59375 \nz\n\" id=\"DejaVuSans-99\"/>\n       <path d=\"M 44.28125 53.078125 \nL 44.28125 44.578125 \nQ 40.484375 46.53125 36.375 47.5 \nQ 32.28125 48.484375 27.875 48.484375 \nQ 21.1875 48.484375 17.84375 46.4375 \nQ 14.5 44.390625 14.5 40.28125 \nQ 14.5 37.15625 16.890625 35.375 \nQ 19.28125 33.59375 26.515625 31.984375 \nL 29.59375 31.296875 \nQ 39.15625 29.25 43.1875 25.515625 \nQ 47.21875 21.78125 47.21875 15.09375 \nQ 47.21875 7.46875 41.1875 3.015625 \nQ 35.15625 -1.421875 24.609375 -1.421875 \nQ 20.21875 -1.421875 15.453125 -0.5625 \nQ 10.6875 0.296875 5.421875 2 \nL 5.421875 11.28125 \nQ 10.40625 8.6875 15.234375 7.390625 \nQ 20.0625 6.109375 24.8125 6.109375 \nQ 31.15625 6.109375 34.5625 8.28125 \nQ 37.984375 10.453125 37.984375 14.40625 \nQ 37.984375 18.0625 35.515625 20.015625 \nQ 33.0625 21.96875 24.703125 23.78125 \nL 21.578125 24.515625 \nQ 13.234375 26.265625 9.515625 29.90625 \nQ 5.8125 33.546875 5.8125 39.890625 \nQ 5.8125 47.609375 11.28125 51.796875 \nQ 16.75 56 26.8125 56 \nQ 31.78125 56 36.171875 55.265625 \nQ 40.578125 54.546875 44.28125 53.078125 \nz\n\" id=\"DejaVuSans-115\"/>\n      </defs>\n      <g style=\"fill:#555555;\" transform=\"translate(78.294375 271.446875)rotate(-90)scale(0.1 -0.1)\">\n       <use xlink:href=\"#DejaVuSans-119\"/>\n       <use x=\"81.787109\" xlink:href=\"#DejaVuSans-97\"/>\n       <use x=\"143.066406\" xlink:href=\"#DejaVuSans-116\"/>\n       <use x=\"182.275391\" xlink:href=\"#DejaVuSans-101\"/>\n       <use x=\"243.798828\" xlink:href=\"#DejaVuSans-114\"/>\n       <use x=\"282.662109\" xlink:href=\"#DejaVuSans-99\"/>\n       <use x=\"337.642578\" xlink:href=\"#DejaVuSans-114\"/>\n       <use x=\"376.505859\" xlink:href=\"#DejaVuSans-101\"/>\n       <use x=\"438.029297\" xlink:href=\"#DejaVuSans-115\"/>\n       <use x=\"490.128906\" xlink:href=\"#DejaVuSans-115\"/>\n      </g>\n     </g>\n    </g>\n    <g id=\"xtick_2\">\n     <g id=\"line2d_2\">\n      <g>\n       <use style=\"fill:#555555;stroke:#555555;stroke-width:0.8;\" x=\"85.68625\" xlink:href=\"#mdd73d6bcf1\" y=\"210.225\"/>\n      </g>\n     </g>\n     <g id=\"text_2\">\n      <!-- fajita -->\n      <defs>\n       <path d=\"M 37.109375 75.984375 \nL 37.109375 68.5 \nL 28.515625 68.5 \nQ 23.6875 68.5 21.796875 66.546875 \nQ 19.921875 64.59375 19.921875 59.515625 \nL 19.921875 54.6875 \nL 34.71875 54.6875 \nL 34.71875 47.703125 \nL 19.921875 47.703125 \nL 19.921875 0 \nL 10.890625 0 \nL 10.890625 47.703125 \nL 2.296875 47.703125 \nL 2.296875 54.6875 \nL 10.890625 54.6875 \nL 10.890625 58.5 \nQ 10.890625 67.625 15.140625 71.796875 \nQ 19.390625 75.984375 28.609375 75.984375 \nz\n\" id=\"DejaVuSans-102\"/>\n       <path d=\"M 9.421875 54.6875 \nL 18.40625 54.6875 \nL 18.40625 -0.984375 \nQ 18.40625 -11.421875 14.421875 -16.109375 \nQ 10.453125 -20.796875 1.609375 -20.796875 \nL -1.8125 -20.796875 \nL -1.8125 -13.1875 \nL 0.59375 -13.1875 \nQ 5.71875 -13.1875 7.5625 -10.8125 \nQ 9.421875 -8.453125 9.421875 -0.984375 \nz\nM 9.421875 75.984375 \nL 18.40625 75.984375 \nL 18.40625 64.59375 \nL 9.421875 64.59375 \nz\n\" id=\"DejaVuSans-106\"/>\n       <path d=\"M 9.421875 54.6875 \nL 18.40625 54.6875 \nL 18.40625 0 \nL 9.421875 0 \nz\nM 9.421875 75.984375 \nL 18.40625 75.984375 \nL 18.40625 64.59375 \nL 9.421875 64.59375 \nz\n\" id=\"DejaVuSans-105\"/>\n      </defs>\n      <g style=\"fill:#555555;\" transform=\"translate(88.445625 242.478125)rotate(-90)scale(0.1 -0.1)\">\n       <use xlink:href=\"#DejaVuSans-102\"/>\n       <use x=\"35.205078\" xlink:href=\"#DejaVuSans-97\"/>\n       <use x=\"96.484375\" xlink:href=\"#DejaVuSans-106\"/>\n       <use x=\"124.267578\" xlink:href=\"#DejaVuSans-105\"/>\n       <use x=\"152.050781\" xlink:href=\"#DejaVuSans-116\"/>\n       <use x=\"191.259766\" xlink:href=\"#DejaVuSans-97\"/>\n      </g>\n     </g>\n    </g>\n    <g id=\"xtick_3\">\n     <g id=\"line2d_3\">\n      <g>\n       <use style=\"fill:#555555;stroke:#555555;stroke-width:0.8;\" x=\"95.8375\" xlink:href=\"#mdd73d6bcf1\" y=\"210.225\"/>\n      </g>\n     </g>\n     <g id=\"text_3\">\n      <!-- nugget -->\n      <defs>\n       <path d=\"M 54.890625 33.015625 \nL 54.890625 0 \nL 45.90625 0 \nL 45.90625 32.71875 \nQ 45.90625 40.484375 42.875 44.328125 \nQ 39.84375 48.1875 33.796875 48.1875 \nQ 26.515625 48.1875 22.3125 43.546875 \nQ 18.109375 38.921875 18.109375 30.90625 \nL 18.109375 0 \nL 9.078125 0 \nL 9.078125 54.6875 \nL 18.109375 54.6875 \nL 18.109375 46.1875 \nQ 21.34375 51.125 25.703125 53.5625 \nQ 30.078125 56 35.796875 56 \nQ 45.21875 56 50.046875 50.171875 \nQ 54.890625 44.34375 54.890625 33.015625 \nz\n\" id=\"DejaVuSans-110\"/>\n       <path d=\"M 8.5 21.578125 \nL 8.5 54.6875 \nL 17.484375 54.6875 \nL 17.484375 21.921875 \nQ 17.484375 14.15625 20.5 10.265625 \nQ 23.53125 6.390625 29.59375 6.390625 \nQ 36.859375 6.390625 41.078125 11.03125 \nQ 45.3125 15.671875 45.3125 23.6875 \nL 45.3125 54.6875 \nL 54.296875 54.6875 \nL 54.296875 0 \nL 45.3125 0 \nL 45.3125 8.40625 \nQ 42.046875 3.421875 37.71875 1 \nQ 33.40625 -1.421875 27.6875 -1.421875 \nQ 18.265625 -1.421875 13.375 4.4375 \nQ 8.5 10.296875 8.5 21.578125 \nz\nM 31.109375 56 \nz\n\" id=\"DejaVuSans-117\"/>\n       <path d=\"M 45.40625 27.984375 \nQ 45.40625 37.75 41.375 43.109375 \nQ 37.359375 48.484375 30.078125 48.484375 \nQ 22.859375 48.484375 18.828125 43.109375 \nQ 14.796875 37.75 14.796875 27.984375 \nQ 14.796875 18.265625 18.828125 12.890625 \nQ 22.859375 7.515625 30.078125 7.515625 \nQ 37.359375 7.515625 41.375 12.890625 \nQ 45.40625 18.265625 45.40625 27.984375 \nz\nM 54.390625 6.78125 \nQ 54.390625 -7.171875 48.1875 -13.984375 \nQ 42 -20.796875 29.203125 -20.796875 \nQ 24.46875 -20.796875 20.265625 -20.09375 \nQ 16.0625 -19.390625 12.109375 -17.921875 \nL 12.109375 -9.1875 \nQ 16.0625 -11.328125 19.921875 -12.34375 \nQ 23.78125 -13.375 27.78125 -13.375 \nQ 36.625 -13.375 41.015625 -8.765625 \nQ 45.40625 -4.15625 45.40625 5.171875 \nL 45.40625 9.625 \nQ 42.625 4.78125 38.28125 2.390625 \nQ 33.9375 0 27.875 0 \nQ 17.828125 0 11.671875 7.65625 \nQ 5.515625 15.328125 5.515625 27.984375 \nQ 5.515625 40.671875 11.671875 48.328125 \nQ 17.828125 56 27.875 56 \nQ 33.9375 56 38.28125 53.609375 \nQ 42.625 51.21875 45.40625 46.390625 \nL 45.40625 54.6875 \nL 54.390625 54.6875 \nz\n\" id=\"DejaVuSans-103\"/>\n      </defs>\n      <g style=\"fill:#555555;\" transform=\"translate(98.596875 252.670312)rotate(-90)scale(0.1 -0.1)\">\n       <use xlink:href=\"#DejaVuSans-110\"/>\n       <use x=\"63.378906\" xlink:href=\"#DejaVuSans-117\"/>\n       <use x=\"126.757812\" xlink:href=\"#DejaVuSans-103\"/>\n       <use x=\"190.234375\" xlink:href=\"#DejaVuSans-103\"/>\n       <use x=\"253.710938\" xlink:href=\"#DejaVuSans-101\"/>\n       <use x=\"315.234375\" xlink:href=\"#DejaVuSans-116\"/>\n      </g>\n     </g>\n    </g>\n    <g id=\"xtick_4\">\n     <g id=\"line2d_4\">\n      <g>\n       <use style=\"fill:#555555;stroke:#555555;stroke-width:0.8;\" x=\"105.98875\" xlink:href=\"#mdd73d6bcf1\" y=\"210.225\"/>\n      </g>\n     </g>\n     <g id=\"text_4\">\n      <!-- braciole -->\n      <defs>\n       <path d=\"M 48.6875 27.296875 \nQ 48.6875 37.203125 44.609375 42.84375 \nQ 40.53125 48.484375 33.40625 48.484375 \nQ 26.265625 48.484375 22.1875 42.84375 \nQ 18.109375 37.203125 18.109375 27.296875 \nQ 18.109375 17.390625 22.1875 11.75 \nQ 26.265625 6.109375 33.40625 6.109375 \nQ 40.53125 6.109375 44.609375 11.75 \nQ 48.6875 17.390625 48.6875 27.296875 \nz\nM 18.109375 46.390625 \nQ 20.953125 51.265625 25.265625 53.625 \nQ 29.59375 56 35.59375 56 \nQ 45.5625 56 51.78125 48.09375 \nQ 58.015625 40.1875 58.015625 27.296875 \nQ 58.015625 14.40625 51.78125 6.484375 \nQ 45.5625 -1.421875 35.59375 -1.421875 \nQ 29.59375 -1.421875 25.265625 0.953125 \nQ 20.953125 3.328125 18.109375 8.203125 \nL 18.109375 0 \nL 9.078125 0 \nL 9.078125 75.984375 \nL 18.109375 75.984375 \nz\n\" id=\"DejaVuSans-98\"/>\n       <path d=\"M 30.609375 48.390625 \nQ 23.390625 48.390625 19.1875 42.75 \nQ 14.984375 37.109375 14.984375 27.296875 \nQ 14.984375 17.484375 19.15625 11.84375 \nQ 23.34375 6.203125 30.609375 6.203125 \nQ 37.796875 6.203125 41.984375 11.859375 \nQ 46.1875 17.53125 46.1875 27.296875 \nQ 46.1875 37.015625 41.984375 42.703125 \nQ 37.796875 48.390625 30.609375 48.390625 \nz\nM 30.609375 56 \nQ 42.328125 56 49.015625 48.375 \nQ 55.71875 40.765625 55.71875 27.296875 \nQ 55.71875 13.875 49.015625 6.21875 \nQ 42.328125 -1.421875 30.609375 -1.421875 \nQ 18.84375 -1.421875 12.171875 6.21875 \nQ 5.515625 13.875 5.515625 27.296875 \nQ 5.515625 40.765625 12.171875 48.375 \nQ 18.84375 56 30.609375 56 \nz\n\" id=\"DejaVuSans-111\"/>\n       <path d=\"M 9.421875 75.984375 \nL 18.40625 75.984375 \nL 18.40625 0 \nL 9.421875 0 \nz\n\" id=\"DejaVuSans-108\"/>\n      </defs>\n      <g style=\"fill:#555555;\" transform=\"translate(108.748125 257.139062)rotate(-90)scale(0.1 -0.1)\">\n       <use xlink:href=\"#DejaVuSans-98\"/>\n       <use x=\"63.476562\" xlink:href=\"#DejaVuSans-114\"/>\n       <use x=\"104.589844\" xlink:href=\"#DejaVuSans-97\"/>\n       <use x=\"165.869141\" xlink:href=\"#DejaVuSans-99\"/>\n       <use x=\"220.849609\" xlink:href=\"#DejaVuSans-105\"/>\n       <use x=\"248.632812\" xlink:href=\"#DejaVuSans-111\"/>\n       <use x=\"309.814453\" xlink:href=\"#DejaVuSans-108\"/>\n       <use x=\"337.597656\" xlink:href=\"#DejaVuSans-101\"/>\n      </g>\n     </g>\n    </g>\n    <g id=\"xtick_5\">\n     <g id=\"line2d_5\">\n      <g>\n       <use style=\"fill:#555555;stroke:#555555;stroke-width:0.8;\" x=\"116.14\" xlink:href=\"#mdd73d6bcf1\" y=\"210.225\"/>\n      </g>\n     </g>\n     <g id=\"text_5\">\n      <!-- parsley -->\n      <defs>\n       <path d=\"M 18.109375 8.203125 \nL 18.109375 -20.796875 \nL 9.078125 -20.796875 \nL 9.078125 54.6875 \nL 18.109375 54.6875 \nL 18.109375 46.390625 \nQ 20.953125 51.265625 25.265625 53.625 \nQ 29.59375 56 35.59375 56 \nQ 45.5625 56 51.78125 48.09375 \nQ 58.015625 40.1875 58.015625 27.296875 \nQ 58.015625 14.40625 51.78125 6.484375 \nQ 45.5625 -1.421875 35.59375 -1.421875 \nQ 29.59375 -1.421875 25.265625 0.953125 \nQ 20.953125 3.328125 18.109375 8.203125 \nz\nM 48.6875 27.296875 \nQ 48.6875 37.203125 44.609375 42.84375 \nQ 40.53125 48.484375 33.40625 48.484375 \nQ 26.265625 48.484375 22.1875 42.84375 \nQ 18.109375 37.203125 18.109375 27.296875 \nQ 18.109375 17.390625 22.1875 11.75 \nQ 26.265625 6.109375 33.40625 6.109375 \nQ 40.53125 6.109375 44.609375 11.75 \nQ 48.6875 17.390625 48.6875 27.296875 \nz\n\" id=\"DejaVuSans-112\"/>\n       <path d=\"M 32.171875 -5.078125 \nQ 28.375 -14.84375 24.75 -17.8125 \nQ 21.140625 -20.796875 15.09375 -20.796875 \nL 7.90625 -20.796875 \nL 7.90625 -13.28125 \nL 13.1875 -13.28125 \nQ 16.890625 -13.28125 18.9375 -11.515625 \nQ 21 -9.765625 23.484375 -3.21875 \nL 25.09375 0.875 \nL 2.984375 54.6875 \nL 12.5 54.6875 \nL 29.59375 11.921875 \nL 46.6875 54.6875 \nL 56.203125 54.6875 \nz\n\" id=\"DejaVuSans-121\"/>\n      </defs>\n      <g style=\"fill:#555555;\" transform=\"translate(118.899375 253.871875)rotate(-90)scale(0.1 -0.1)\">\n       <use xlink:href=\"#DejaVuSans-112\"/>\n       <use x=\"63.476562\" xlink:href=\"#DejaVuSans-97\"/>\n       <use x=\"124.755859\" xlink:href=\"#DejaVuSans-114\"/>\n       <use x=\"165.869141\" xlink:href=\"#DejaVuSans-115\"/>\n       <use x=\"217.96875\" xlink:href=\"#DejaVuSans-108\"/>\n       <use x=\"245.751953\" xlink:href=\"#DejaVuSans-101\"/>\n       <use x=\"307.275391\" xlink:href=\"#DejaVuSans-121\"/>\n      </g>\n     </g>\n    </g>\n    <g id=\"xtick_6\">\n     <g id=\"line2d_6\">\n      <g>\n       <use style=\"fill:#555555;stroke:#555555;stroke-width:0.8;\" x=\"126.29125\" xlink:href=\"#mdd73d6bcf1\" y=\"210.225\"/>\n      </g>\n     </g>\n     <g id=\"text_6\">\n      <!-- nutella -->\n      <g style=\"fill:#555555;\" transform=\"translate(129.050625 251.657812)rotate(-90)scale(0.1 -0.1)\">\n       <use xlink:href=\"#DejaVuSans-110\"/>\n       <use x=\"63.378906\" xlink:href=\"#DejaVuSans-117\"/>\n       <use x=\"126.757812\" xlink:href=\"#DejaVuSans-116\"/>\n       <use x=\"165.966797\" xlink:href=\"#DejaVuSans-101\"/>\n       <use x=\"227.490234\" xlink:href=\"#DejaVuSans-108\"/>\n       <use x=\"255.273438\" xlink:href=\"#DejaVuSans-108\"/>\n       <use x=\"283.056641\" xlink:href=\"#DejaVuSans-97\"/>\n      </g>\n     </g>\n    </g>\n    <g id=\"xtick_7\">\n     <g id=\"line2d_7\">\n      <g>\n       <use style=\"fill:#555555;stroke:#555555;stroke-width:0.8;\" x=\"136.4425\" xlink:href=\"#mdd73d6bcf1\" y=\"210.225\"/>\n      </g>\n     </g>\n     <g id=\"text_7\">\n      <!-- falafel -->\n      <g style=\"fill:#555555;\" transform=\"translate(139.201875 248.23125)rotate(-90)scale(0.1 -0.1)\">\n       <use xlink:href=\"#DejaVuSans-102\"/>\n       <use x=\"35.205078\" xlink:href=\"#DejaVuSans-97\"/>\n       <use x=\"96.484375\" xlink:href=\"#DejaVuSans-108\"/>\n       <use x=\"124.267578\" xlink:href=\"#DejaVuSans-97\"/>\n       <use x=\"185.546875\" xlink:href=\"#DejaVuSans-102\"/>\n       <use x=\"220.751953\" xlink:href=\"#DejaVuSans-101\"/>\n       <use x=\"282.275391\" xlink:href=\"#DejaVuSans-108\"/>\n      </g>\n     </g>\n    </g>\n    <g id=\"xtick_8\">\n     <g id=\"line2d_8\">\n      <g>\n       <use style=\"fill:#555555;stroke:#555555;stroke-width:0.8;\" x=\"146.59375\" xlink:href=\"#mdd73d6bcf1\" y=\"210.225\"/>\n      </g>\n     </g>\n     <g id=\"text_8\">\n      <!-- tongue -->\n      <g style=\"fill:#555555;\" transform=\"translate(149.353125 252.440625)rotate(-90)scale(0.1 -0.1)\">\n       <use xlink:href=\"#DejaVuSans-116\"/>\n       <use x=\"39.208984\" xlink:href=\"#DejaVuSans-111\"/>\n       <use x=\"100.390625\" xlink:href=\"#DejaVuSans-110\"/>\n       <use x=\"163.769531\" xlink:href=\"#DejaVuSans-103\"/>\n       <use x=\"227.246094\" xlink:href=\"#DejaVuSans-117\"/>\n       <use x=\"290.625\" xlink:href=\"#DejaVuSans-101\"/>\n      </g>\n     </g>\n    </g>\n    <g id=\"xtick_9\">\n     <g id=\"line2d_9\">\n      <g>\n       <use style=\"fill:#555555;stroke:#555555;stroke-width:0.8;\" x=\"156.745\" xlink:href=\"#mdd73d6bcf1\" y=\"210.225\"/>\n      </g>\n     </g>\n     <g id=\"text_9\">\n      <!-- brownie -->\n      <g style=\"fill:#555555;\" transform=\"translate(159.504375 257.025)rotate(-90)scale(0.1 -0.1)\">\n       <use xlink:href=\"#DejaVuSans-98\"/>\n       <use x=\"63.476562\" xlink:href=\"#DejaVuSans-114\"/>\n       <use x=\"102.339844\" xlink:href=\"#DejaVuSans-111\"/>\n       <use x=\"163.521484\" xlink:href=\"#DejaVuSans-119\"/>\n       <use x=\"245.308594\" xlink:href=\"#DejaVuSans-110\"/>\n       <use x=\"308.6875\" xlink:href=\"#DejaVuSans-105\"/>\n       <use x=\"336.470703\" xlink:href=\"#DejaVuSans-101\"/>\n      </g>\n     </g>\n    </g>\n    <g id=\"xtick_10\">\n     <g id=\"line2d_10\">\n      <g>\n       <use style=\"fill:#555555;stroke:#555555;stroke-width:0.8;\" x=\"166.89625\" xlink:href=\"#mdd73d6bcf1\" y=\"210.225\"/>\n      </g>\n     </g>\n     <g id=\"text_10\">\n      <!-- candy -->\n      <defs>\n       <path d=\"M 45.40625 46.390625 \nL 45.40625 75.984375 \nL 54.390625 75.984375 \nL 54.390625 0 \nL 45.40625 0 \nL 45.40625 8.203125 \nQ 42.578125 3.328125 38.25 0.953125 \nQ 33.9375 -1.421875 27.875 -1.421875 \nQ 17.96875 -1.421875 11.734375 6.484375 \nQ 5.515625 14.40625 5.515625 27.296875 \nQ 5.515625 40.1875 11.734375 48.09375 \nQ 17.96875 56 27.875 56 \nQ 33.9375 56 38.25 53.625 \nQ 42.578125 51.265625 45.40625 46.390625 \nz\nM 14.796875 27.296875 \nQ 14.796875 17.390625 18.875 11.75 \nQ 22.953125 6.109375 30.078125 6.109375 \nQ 37.203125 6.109375 41.296875 11.75 \nQ 45.40625 17.390625 45.40625 27.296875 \nQ 45.40625 37.203125 41.296875 42.84375 \nQ 37.203125 48.484375 30.078125 48.484375 \nQ 22.953125 48.484375 18.875 42.84375 \nQ 14.796875 37.203125 14.796875 27.296875 \nz\n\" id=\"DejaVuSans-100\"/>\n      </defs>\n      <g style=\"fill:#555555;\" transform=\"translate(169.655625 247.45625)rotate(-90)scale(0.1 -0.1)\">\n       <use xlink:href=\"#DejaVuSans-99\"/>\n       <use x=\"54.980469\" xlink:href=\"#DejaVuSans-97\"/>\n       <use x=\"116.259766\" xlink:href=\"#DejaVuSans-110\"/>\n       <use x=\"179.638672\" xlink:href=\"#DejaVuSans-100\"/>\n       <use x=\"243.115234\" xlink:href=\"#DejaVuSans-121\"/>\n      </g>\n     </g>\n    </g>\n    <g id=\"xtick_11\">\n     <g id=\"line2d_11\">\n      <g>\n       <use style=\"fill:#555555;stroke:#555555;stroke-width:0.8;\" x=\"177.0475\" xlink:href=\"#mdd73d6bcf1\" y=\"210.225\"/>\n      </g>\n     </g>\n     <g id=\"text_11\">\n      <!-- rosewater -->\n      <g style=\"fill:#555555;\" transform=\"translate(179.806875 267.082812)rotate(-90)scale(0.1 -0.1)\">\n       <use xlink:href=\"#DejaVuSans-114\"/>\n       <use x=\"38.863281\" xlink:href=\"#DejaVuSans-111\"/>\n       <use x=\"100.044922\" xlink:href=\"#DejaVuSans-115\"/>\n       <use x=\"152.144531\" xlink:href=\"#DejaVuSans-101\"/>\n       <use x=\"213.667969\" xlink:href=\"#DejaVuSans-119\"/>\n       <use x=\"295.455078\" xlink:href=\"#DejaVuSans-97\"/>\n       <use x=\"356.734375\" xlink:href=\"#DejaVuSans-116\"/>\n       <use x=\"395.943359\" xlink:href=\"#DejaVuSans-101\"/>\n       <use x=\"457.466797\" xlink:href=\"#DejaVuSans-114\"/>\n      </g>\n     </g>\n    </g>\n    <g id=\"xtick_12\">\n     <g id=\"line2d_12\">\n      <g>\n       <use style=\"fill:#555555;stroke:#555555;stroke-width:0.8;\" x=\"187.19875\" xlink:href=\"#mdd73d6bcf1\" y=\"210.225\"/>\n      </g>\n     </g>\n     <g id=\"text_12\">\n      <!-- limoncello -->\n      <defs>\n       <path d=\"M 52 44.1875 \nQ 55.375 50.25 60.0625 53.125 \nQ 64.75 56 71.09375 56 \nQ 79.640625 56 84.28125 50.015625 \nQ 88.921875 44.046875 88.921875 33.015625 \nL 88.921875 0 \nL 79.890625 0 \nL 79.890625 32.71875 \nQ 79.890625 40.578125 77.09375 44.375 \nQ 74.3125 48.1875 68.609375 48.1875 \nQ 61.625 48.1875 57.5625 43.546875 \nQ 53.515625 38.921875 53.515625 30.90625 \nL 53.515625 0 \nL 44.484375 0 \nL 44.484375 32.71875 \nQ 44.484375 40.625 41.703125 44.40625 \nQ 38.921875 48.1875 33.109375 48.1875 \nQ 26.21875 48.1875 22.15625 43.53125 \nQ 18.109375 38.875 18.109375 30.90625 \nL 18.109375 0 \nL 9.078125 0 \nL 9.078125 54.6875 \nL 18.109375 54.6875 \nL 18.109375 46.1875 \nQ 21.1875 51.21875 25.484375 53.609375 \nQ 29.78125 56 35.6875 56 \nQ 41.65625 56 45.828125 52.96875 \nQ 50 49.953125 52 44.1875 \nz\n\" id=\"DejaVuSans-109\"/>\n      </defs>\n      <g style=\"fill:#555555;\" transform=\"translate(189.958125 268.304688)rotate(-90)scale(0.1 -0.1)\">\n       <use xlink:href=\"#DejaVuSans-108\"/>\n       <use x=\"27.783203\" xlink:href=\"#DejaVuSans-105\"/>\n       <use x=\"55.566406\" xlink:href=\"#DejaVuSans-109\"/>\n       <use x=\"152.978516\" xlink:href=\"#DejaVuSans-111\"/>\n       <use x=\"214.160156\" xlink:href=\"#DejaVuSans-110\"/>\n       <use x=\"277.539062\" xlink:href=\"#DejaVuSans-99\"/>\n       <use x=\"332.519531\" xlink:href=\"#DejaVuSans-101\"/>\n       <use x=\"394.042969\" xlink:href=\"#DejaVuSans-108\"/>\n       <use x=\"421.826172\" xlink:href=\"#DejaVuSans-108\"/>\n       <use x=\"449.609375\" xlink:href=\"#DejaVuSans-111\"/>\n      </g>\n     </g>\n    </g>\n    <g id=\"xtick_13\">\n     <g id=\"line2d_13\">\n      <g>\n       <use style=\"fill:#555555;stroke:#555555;stroke-width:0.8;\" x=\"197.35\" xlink:href=\"#mdd73d6bcf1\" y=\"210.225\"/>\n      </g>\n     </g>\n     <g id=\"text_13\">\n      <!-- amaretti -->\n      <g style=\"fill:#555555;\" transform=\"translate(200.109375 259.879687)rotate(-90)scale(0.1 -0.1)\">\n       <use xlink:href=\"#DejaVuSans-97\"/>\n       <use x=\"61.279297\" xlink:href=\"#DejaVuSans-109\"/>\n       <use x=\"158.691406\" xlink:href=\"#DejaVuSans-97\"/>\n       <use x=\"219.970703\" xlink:href=\"#DejaVuSans-114\"/>\n       <use x=\"258.833984\" xlink:href=\"#DejaVuSans-101\"/>\n       <use x=\"320.357422\" xlink:href=\"#DejaVuSans-116\"/>\n       <use x=\"359.566406\" xlink:href=\"#DejaVuSans-116\"/>\n       <use x=\"398.775391\" xlink:href=\"#DejaVuSans-105\"/>\n      </g>\n     </g>\n    </g>\n    <g id=\"xtick_14\">\n     <g id=\"line2d_14\">\n      <g>\n       <use style=\"fill:#555555;stroke:#555555;stroke-width:0.8;\" x=\"207.50125\" xlink:href=\"#mdd73d6bcf1\" y=\"210.225\"/>\n      </g>\n     </g>\n     <g id=\"text_14\">\n      <!-- water -->\n      <g style=\"fill:#555555;\" transform=\"translate(210.260625 245.715625)rotate(-90)scale(0.1 -0.1)\">\n       <use xlink:href=\"#DejaVuSans-119\"/>\n       <use x=\"81.787109\" xlink:href=\"#DejaVuSans-97\"/>\n       <use x=\"143.066406\" xlink:href=\"#DejaVuSans-116\"/>\n       <use x=\"182.275391\" xlink:href=\"#DejaVuSans-101\"/>\n       <use x=\"243.798828\" xlink:href=\"#DejaVuSans-114\"/>\n      </g>\n     </g>\n    </g>\n    <g id=\"xtick_15\">\n     <g id=\"line2d_15\">\n      <g>\n       <use style=\"fill:#555555;stroke:#555555;stroke-width:0.8;\" x=\"217.6525\" xlink:href=\"#mdd73d6bcf1\" y=\"210.225\"/>\n      </g>\n     </g>\n     <g id=\"text_15\">\n      <!-- whiskey -->\n      <defs>\n       <path d=\"M 54.890625 33.015625 \nL 54.890625 0 \nL 45.90625 0 \nL 45.90625 32.71875 \nQ 45.90625 40.484375 42.875 44.328125 \nQ 39.84375 48.1875 33.796875 48.1875 \nQ 26.515625 48.1875 22.3125 43.546875 \nQ 18.109375 38.921875 18.109375 30.90625 \nL 18.109375 0 \nL 9.078125 0 \nL 9.078125 75.984375 \nL 18.109375 75.984375 \nL 18.109375 46.1875 \nQ 21.34375 51.125 25.703125 53.5625 \nQ 30.078125 56 35.796875 56 \nQ 45.21875 56 50.046875 50.171875 \nQ 54.890625 44.34375 54.890625 33.015625 \nz\n\" id=\"DejaVuSans-104\"/>\n       <path d=\"M 9.078125 75.984375 \nL 18.109375 75.984375 \nL 18.109375 31.109375 \nL 44.921875 54.6875 \nL 56.390625 54.6875 \nL 27.390625 29.109375 \nL 57.625 0 \nL 45.90625 0 \nL 18.109375 26.703125 \nL 18.109375 0 \nL 9.078125 0 \nz\n\" id=\"DejaVuSans-107\"/>\n      </defs>\n      <g style=\"fill:#555555;\" transform=\"translate(220.411875 257.228125)rotate(-90)scale(0.1 -0.1)\">\n       <use xlink:href=\"#DejaVuSans-119\"/>\n       <use x=\"81.787109\" xlink:href=\"#DejaVuSans-104\"/>\n       <use x=\"145.166016\" xlink:href=\"#DejaVuSans-105\"/>\n       <use x=\"172.949219\" xlink:href=\"#DejaVuSans-115\"/>\n       <use x=\"225.048828\" xlink:href=\"#DejaVuSans-107\"/>\n       <use x=\"279.333984\" xlink:href=\"#DejaVuSans-101\"/>\n       <use x=\"340.857422\" xlink:href=\"#DejaVuSans-121\"/>\n      </g>\n     </g>\n    </g>\n    <g id=\"xtick_16\">\n     <g id=\"line2d_16\">\n      <g>\n       <use style=\"fill:#555555;stroke:#555555;stroke-width:0.8;\" x=\"227.80375\" xlink:href=\"#mdd73d6bcf1\" y=\"210.225\"/>\n      </g>\n     </g>\n     <g id=\"text_16\">\n      <!-- clementine -->\n      <g style=\"fill:#555555;\" transform=\"translate(230.563125 273.075)rotate(-90)scale(0.1 -0.1)\">\n       <use xlink:href=\"#DejaVuSans-99\"/>\n       <use x=\"54.980469\" xlink:href=\"#DejaVuSans-108\"/>\n       <use x=\"82.763672\" xlink:href=\"#DejaVuSans-101\"/>\n       <use x=\"144.287109\" xlink:href=\"#DejaVuSans-109\"/>\n       <use x=\"241.699219\" xlink:href=\"#DejaVuSans-101\"/>\n       <use x=\"303.222656\" xlink:href=\"#DejaVuSans-110\"/>\n       <use x=\"366.601562\" xlink:href=\"#DejaVuSans-116\"/>\n       <use x=\"405.810547\" xlink:href=\"#DejaVuSans-105\"/>\n       <use x=\"433.59375\" xlink:href=\"#DejaVuSans-110\"/>\n       <use x=\"496.972656\" xlink:href=\"#DejaVuSans-101\"/>\n      </g>\n     </g>\n    </g>\n    <g id=\"xtick_17\">\n     <g id=\"line2d_17\">\n      <g>\n       <use style=\"fill:#555555;stroke:#555555;stroke-width:0.8;\" x=\"237.955\" xlink:href=\"#mdd73d6bcf1\" y=\"210.225\"/>\n      </g>\n     </g>\n     <g id=\"text_17\">\n      <!-- cheddar -->\n      <g style=\"fill:#555555;\" transform=\"translate(240.714375 258.15)rotate(-90)scale(0.1 -0.1)\">\n       <use xlink:href=\"#DejaVuSans-99\"/>\n       <use x=\"54.980469\" xlink:href=\"#DejaVuSans-104\"/>\n       <use x=\"118.359375\" xlink:href=\"#DejaVuSans-101\"/>\n       <use x=\"179.882812\" xlink:href=\"#DejaVuSans-100\"/>\n       <use x=\"243.359375\" xlink:href=\"#DejaVuSans-100\"/>\n       <use x=\"306.835938\" xlink:href=\"#DejaVuSans-97\"/>\n       <use x=\"368.115234\" xlink:href=\"#DejaVuSans-114\"/>\n      </g>\n     </g>\n    </g>\n    <g id=\"xtick_18\">\n     <g id=\"line2d_18\">\n      <g>\n       <use style=\"fill:#555555;stroke:#555555;stroke-width:0.8;\" x=\"248.10625\" xlink:href=\"#mdd73d6bcf1\" y=\"210.225\"/>\n      </g>\n     </g>\n     <g id=\"text_18\">\n      <!-- gruyère -->\n      <defs>\n       <path d=\"M 56.203125 29.59375 \nL 56.203125 25.203125 \nL 14.890625 25.203125 \nQ 15.484375 15.921875 20.484375 11.0625 \nQ 25.484375 6.203125 34.421875 6.203125 \nQ 39.59375 6.203125 44.453125 7.46875 \nQ 49.3125 8.734375 54.109375 11.28125 \nL 54.109375 2.78125 \nQ 49.265625 0.734375 44.1875 -0.34375 \nQ 39.109375 -1.421875 33.890625 -1.421875 \nQ 20.796875 -1.421875 13.15625 6.1875 \nQ 5.515625 13.8125 5.515625 26.8125 \nQ 5.515625 40.234375 12.765625 48.109375 \nQ 20.015625 56 32.328125 56 \nQ 43.359375 56 49.78125 48.890625 \nQ 56.203125 41.796875 56.203125 29.59375 \nz\nM 47.21875 32.234375 \nQ 47.125 39.59375 43.09375 43.984375 \nQ 39.0625 48.390625 32.421875 48.390625 \nQ 24.90625 48.390625 20.390625 44.140625 \nQ 15.875 39.890625 15.1875 32.171875 \nz\nM 24.671875 79.984375 \nL 38.4375 61.71875 \nL 30.96875 61.71875 \nL 15.046875 79.984375 \nz\n\" id=\"DejaVuSans-232\"/>\n      </defs>\n      <g style=\"fill:#555555;\" transform=\"translate(251.065625 256.132812)rotate(-90)scale(0.1 -0.1)\">\n       <use xlink:href=\"#DejaVuSans-103\"/>\n       <use x=\"63.476562\" xlink:href=\"#DejaVuSans-114\"/>\n       <use x=\"104.589844\" xlink:href=\"#DejaVuSans-117\"/>\n       <use x=\"167.96875\" xlink:href=\"#DejaVuSans-121\"/>\n       <use x=\"227.148438\" xlink:href=\"#DejaVuSans-232\"/>\n       <use x=\"288.671875\" xlink:href=\"#DejaVuSans-114\"/>\n       <use x=\"327.535156\" xlink:href=\"#DejaVuSans-101\"/>\n      </g>\n     </g>\n    </g>\n    <g id=\"xtick_19\">\n     <g id=\"line2d_19\">\n      <g>\n       <use style=\"fill:#555555;stroke:#555555;stroke-width:0.8;\" x=\"258.2575\" xlink:href=\"#mdd73d6bcf1\" y=\"210.225\"/>\n      </g>\n     </g>\n     <g id=\"text_19\">\n      <!-- pinenuts -->\n      <g style=\"fill:#555555;\" transform=\"translate(261.016875 260.646875)rotate(-90)scale(0.1 -0.1)\">\n       <use xlink:href=\"#DejaVuSans-112\"/>\n       <use x=\"63.476562\" xlink:href=\"#DejaVuSans-105\"/>\n       <use x=\"91.259766\" xlink:href=\"#DejaVuSans-110\"/>\n       <use x=\"154.638672\" xlink:href=\"#DejaVuSans-101\"/>\n       <use x=\"216.162109\" xlink:href=\"#DejaVuSans-110\"/>\n       <use x=\"279.541016\" xlink:href=\"#DejaVuSans-117\"/>\n       <use x=\"342.919922\" xlink:href=\"#DejaVuSans-116\"/>\n       <use x=\"382.128906\" xlink:href=\"#DejaVuSans-115\"/>\n      </g>\n     </g>\n    </g>\n    <g id=\"xtick_20\">\n     <g id=\"line2d_20\">\n      <g>\n       <use style=\"fill:#555555;stroke:#555555;stroke-width:0.8;\" x=\"268.40875\" xlink:href=\"#mdd73d6bcf1\" y=\"210.225\"/>\n      </g>\n     </g>\n     <g id=\"text_20\">\n      <!-- spaghettini -->\n      <g style=\"fill:#555555;\" transform=\"translate(271.168125 273.484375)rotate(-90)scale(0.1 -0.1)\">\n       <use xlink:href=\"#DejaVuSans-115\"/>\n       <use x=\"52.099609\" xlink:href=\"#DejaVuSans-112\"/>\n       <use x=\"115.576172\" xlink:href=\"#DejaVuSans-97\"/>\n       <use x=\"176.855469\" xlink:href=\"#DejaVuSans-103\"/>\n       <use x=\"240.332031\" xlink:href=\"#DejaVuSans-104\"/>\n       <use x=\"303.710938\" xlink:href=\"#DejaVuSans-101\"/>\n       <use x=\"365.234375\" xlink:href=\"#DejaVuSans-116\"/>\n       <use x=\"404.443359\" xlink:href=\"#DejaVuSans-116\"/>\n       <use x=\"443.652344\" xlink:href=\"#DejaVuSans-105\"/>\n       <use x=\"471.435547\" xlink:href=\"#DejaVuSans-110\"/>\n       <use x=\"534.814453\" xlink:href=\"#DejaVuSans-105\"/>\n      </g>\n     </g>\n    </g>\n   </g>\n   <g id=\"matplotlib.axis_2\">\n    <g id=\"ytick_1\">\n     <g id=\"line2d_21\">\n      <defs>\n       <path d=\"M 0 0 \nL -3.5 0 \n\" id=\"m72f2230237\" style=\"stroke:#555555;stroke-width:0.8;\"/>\n      </defs>\n      <g>\n       <use style=\"fill:#555555;stroke:#555555;stroke-width:0.8;\" x=\"70.459375\" xlink:href=\"#m72f2230237\" y=\"12.275625\"/>\n      </g>\n     </g>\n     <g id=\"text_21\">\n      <!-- watercress -->\n      <g style=\"fill:#555555;\" transform=\"translate(9.2375 16.074844)scale(0.1 -0.1)\">\n       <use xlink:href=\"#DejaVuSans-119\"/>\n       <use x=\"81.787109\" xlink:href=\"#DejaVuSans-97\"/>\n       <use x=\"143.066406\" xlink:href=\"#DejaVuSans-116\"/>\n       <use x=\"182.275391\" xlink:href=\"#DejaVuSans-101\"/>\n       <use x=\"243.798828\" xlink:href=\"#DejaVuSans-114\"/>\n       <use x=\"282.662109\" xlink:href=\"#DejaVuSans-99\"/>\n       <use x=\"337.642578\" xlink:href=\"#DejaVuSans-114\"/>\n       <use x=\"376.505859\" xlink:href=\"#DejaVuSans-101\"/>\n       <use x=\"438.029297\" xlink:href=\"#DejaVuSans-115\"/>\n       <use x=\"490.128906\" xlink:href=\"#DejaVuSans-115\"/>\n      </g>\n     </g>\n    </g>\n    <g id=\"ytick_2\">\n     <g id=\"line2d_22\">\n      <g>\n       <use style=\"fill:#555555;stroke:#555555;stroke-width:0.8;\" x=\"70.459375\" xlink:href=\"#m72f2230237\" y=\"22.426875\"/>\n      </g>\n     </g>\n     <g id=\"text_22\">\n      <!-- fajita -->\n      <g style=\"fill:#555555;\" transform=\"translate(38.20625 26.226094)scale(0.1 -0.1)\">\n       <use xlink:href=\"#DejaVuSans-102\"/>\n       <use x=\"35.205078\" xlink:href=\"#DejaVuSans-97\"/>\n       <use x=\"96.484375\" xlink:href=\"#DejaVuSans-106\"/>\n       <use x=\"124.267578\" xlink:href=\"#DejaVuSans-105\"/>\n       <use x=\"152.050781\" xlink:href=\"#DejaVuSans-116\"/>\n       <use x=\"191.259766\" xlink:href=\"#DejaVuSans-97\"/>\n      </g>\n     </g>\n    </g>\n    <g id=\"ytick_3\">\n     <g id=\"line2d_23\">\n      <g>\n       <use style=\"fill:#555555;stroke:#555555;stroke-width:0.8;\" x=\"70.459375\" xlink:href=\"#m72f2230237\" y=\"32.578125\"/>\n      </g>\n     </g>\n     <g id=\"text_23\">\n      <!-- nugget -->\n      <g style=\"fill:#555555;\" transform=\"translate(28.014063 36.377344)scale(0.1 -0.1)\">\n       <use xlink:href=\"#DejaVuSans-110\"/>\n       <use x=\"63.378906\" xlink:href=\"#DejaVuSans-117\"/>\n       <use x=\"126.757812\" xlink:href=\"#DejaVuSans-103\"/>\n       <use x=\"190.234375\" xlink:href=\"#DejaVuSans-103\"/>\n       <use x=\"253.710938\" xlink:href=\"#DejaVuSans-101\"/>\n       <use x=\"315.234375\" xlink:href=\"#DejaVuSans-116\"/>\n      </g>\n     </g>\n    </g>\n    <g id=\"ytick_4\">\n     <g id=\"line2d_24\">\n      <g>\n       <use style=\"fill:#555555;stroke:#555555;stroke-width:0.8;\" x=\"70.459375\" xlink:href=\"#m72f2230237\" y=\"42.729375\"/>\n      </g>\n     </g>\n     <g id=\"text_24\">\n      <!-- braciole -->\n      <g style=\"fill:#555555;\" transform=\"translate(23.545313 46.528594)scale(0.1 -0.1)\">\n       <use xlink:href=\"#DejaVuSans-98\"/>\n       <use x=\"63.476562\" xlink:href=\"#DejaVuSans-114\"/>\n       <use x=\"104.589844\" xlink:href=\"#DejaVuSans-97\"/>\n       <use x=\"165.869141\" xlink:href=\"#DejaVuSans-99\"/>\n       <use x=\"220.849609\" xlink:href=\"#DejaVuSans-105\"/>\n       <use x=\"248.632812\" xlink:href=\"#DejaVuSans-111\"/>\n       <use x=\"309.814453\" xlink:href=\"#DejaVuSans-108\"/>\n       <use x=\"337.597656\" xlink:href=\"#DejaVuSans-101\"/>\n      </g>\n     </g>\n    </g>\n    <g id=\"ytick_5\">\n     <g id=\"line2d_25\">\n      <g>\n       <use style=\"fill:#555555;stroke:#555555;stroke-width:0.8;\" x=\"70.459375\" xlink:href=\"#m72f2230237\" y=\"52.880625\"/>\n      </g>\n     </g>\n     <g id=\"text_25\">\n      <!-- parsley -->\n      <g style=\"fill:#555555;\" transform=\"translate(26.8125 56.679844)scale(0.1 -0.1)\">\n       <use xlink:href=\"#DejaVuSans-112\"/>\n       <use x=\"63.476562\" xlink:href=\"#DejaVuSans-97\"/>\n       <use x=\"124.755859\" xlink:href=\"#DejaVuSans-114\"/>\n       <use x=\"165.869141\" xlink:href=\"#DejaVuSans-115\"/>\n       <use x=\"217.96875\" xlink:href=\"#DejaVuSans-108\"/>\n       <use x=\"245.751953\" xlink:href=\"#DejaVuSans-101\"/>\n       <use x=\"307.275391\" xlink:href=\"#DejaVuSans-121\"/>\n      </g>\n     </g>\n    </g>\n    <g id=\"ytick_6\">\n     <g id=\"line2d_26\">\n      <g>\n       <use style=\"fill:#555555;stroke:#555555;stroke-width:0.8;\" x=\"70.459375\" xlink:href=\"#m72f2230237\" y=\"63.031875\"/>\n      </g>\n     </g>\n     <g id=\"text_26\">\n      <!-- nutella -->\n      <g style=\"fill:#555555;\" transform=\"translate(29.026563 66.831094)scale(0.1 -0.1)\">\n       <use xlink:href=\"#DejaVuSans-110\"/>\n       <use x=\"63.378906\" xlink:href=\"#DejaVuSans-117\"/>\n       <use x=\"126.757812\" xlink:href=\"#DejaVuSans-116\"/>\n       <use x=\"165.966797\" xlink:href=\"#DejaVuSans-101\"/>\n       <use x=\"227.490234\" xlink:href=\"#DejaVuSans-108\"/>\n       <use x=\"255.273438\" xlink:href=\"#DejaVuSans-108\"/>\n       <use x=\"283.056641\" xlink:href=\"#DejaVuSans-97\"/>\n      </g>\n     </g>\n    </g>\n    <g id=\"ytick_7\">\n     <g id=\"line2d_27\">\n      <g>\n       <use style=\"fill:#555555;stroke:#555555;stroke-width:0.8;\" x=\"70.459375\" xlink:href=\"#m72f2230237\" y=\"73.183125\"/>\n      </g>\n     </g>\n     <g id=\"text_27\">\n      <!-- falafel -->\n      <g style=\"fill:#555555;\" transform=\"translate(32.453125 76.982344)scale(0.1 -0.1)\">\n       <use xlink:href=\"#DejaVuSans-102\"/>\n       <use x=\"35.205078\" xlink:href=\"#DejaVuSans-97\"/>\n       <use x=\"96.484375\" xlink:href=\"#DejaVuSans-108\"/>\n       <use x=\"124.267578\" xlink:href=\"#DejaVuSans-97\"/>\n       <use x=\"185.546875\" xlink:href=\"#DejaVuSans-102\"/>\n       <use x=\"220.751953\" xlink:href=\"#DejaVuSans-101\"/>\n       <use x=\"282.275391\" xlink:href=\"#DejaVuSans-108\"/>\n      </g>\n     </g>\n    </g>\n    <g id=\"ytick_8\">\n     <g id=\"line2d_28\">\n      <g>\n       <use style=\"fill:#555555;stroke:#555555;stroke-width:0.8;\" x=\"70.459375\" xlink:href=\"#m72f2230237\" y=\"83.334375\"/>\n      </g>\n     </g>\n     <g id=\"text_28\">\n      <!-- tongue -->\n      <g style=\"fill:#555555;\" transform=\"translate(28.24375 87.133594)scale(0.1 -0.1)\">\n       <use xlink:href=\"#DejaVuSans-116\"/>\n       <use x=\"39.208984\" xlink:href=\"#DejaVuSans-111\"/>\n       <use x=\"100.390625\" xlink:href=\"#DejaVuSans-110\"/>\n       <use x=\"163.769531\" xlink:href=\"#DejaVuSans-103\"/>\n       <use x=\"227.246094\" xlink:href=\"#DejaVuSans-117\"/>\n       <use x=\"290.625\" xlink:href=\"#DejaVuSans-101\"/>\n      </g>\n     </g>\n    </g>\n    <g id=\"ytick_9\">\n     <g id=\"line2d_29\">\n      <g>\n       <use style=\"fill:#555555;stroke:#555555;stroke-width:0.8;\" x=\"70.459375\" xlink:href=\"#m72f2230237\" y=\"93.485625\"/>\n      </g>\n     </g>\n     <g id=\"text_29\">\n      <!-- brownie -->\n      <g style=\"fill:#555555;\" transform=\"translate(23.659375 97.284844)scale(0.1 -0.1)\">\n       <use xlink:href=\"#DejaVuSans-98\"/>\n       <use x=\"63.476562\" xlink:href=\"#DejaVuSans-114\"/>\n       <use x=\"102.339844\" xlink:href=\"#DejaVuSans-111\"/>\n       <use x=\"163.521484\" xlink:href=\"#DejaVuSans-119\"/>\n       <use x=\"245.308594\" xlink:href=\"#DejaVuSans-110\"/>\n       <use x=\"308.6875\" xlink:href=\"#DejaVuSans-105\"/>\n       <use x=\"336.470703\" xlink:href=\"#DejaVuSans-101\"/>\n      </g>\n     </g>\n    </g>\n    <g id=\"ytick_10\">\n     <g id=\"line2d_30\">\n      <g>\n       <use style=\"fill:#555555;stroke:#555555;stroke-width:0.8;\" x=\"70.459375\" xlink:href=\"#m72f2230237\" y=\"103.636875\"/>\n      </g>\n     </g>\n     <g id=\"text_30\">\n      <!-- candy -->\n      <g style=\"fill:#555555;\" transform=\"translate(33.228125 107.436094)scale(0.1 -0.1)\">\n       <use xlink:href=\"#DejaVuSans-99\"/>\n       <use x=\"54.980469\" xlink:href=\"#DejaVuSans-97\"/>\n       <use x=\"116.259766\" xlink:href=\"#DejaVuSans-110\"/>\n       <use x=\"179.638672\" xlink:href=\"#DejaVuSans-100\"/>\n       <use x=\"243.115234\" xlink:href=\"#DejaVuSans-121\"/>\n      </g>\n     </g>\n    </g>\n    <g id=\"ytick_11\">\n     <g id=\"line2d_31\">\n      <g>\n       <use style=\"fill:#555555;stroke:#555555;stroke-width:0.8;\" x=\"70.459375\" xlink:href=\"#m72f2230237\" y=\"113.788125\"/>\n      </g>\n     </g>\n     <g id=\"text_31\">\n      <!-- rosewater -->\n      <g style=\"fill:#555555;\" transform=\"translate(13.601563 117.587344)scale(0.1 -0.1)\">\n       <use xlink:href=\"#DejaVuSans-114\"/>\n       <use x=\"38.863281\" xlink:href=\"#DejaVuSans-111\"/>\n       <use x=\"100.044922\" xlink:href=\"#DejaVuSans-115\"/>\n       <use x=\"152.144531\" xlink:href=\"#DejaVuSans-101\"/>\n       <use x=\"213.667969\" xlink:href=\"#DejaVuSans-119\"/>\n       <use x=\"295.455078\" xlink:href=\"#DejaVuSans-97\"/>\n       <use x=\"356.734375\" xlink:href=\"#DejaVuSans-116\"/>\n       <use x=\"395.943359\" xlink:href=\"#DejaVuSans-101\"/>\n       <use x=\"457.466797\" xlink:href=\"#DejaVuSans-114\"/>\n      </g>\n     </g>\n    </g>\n    <g id=\"ytick_12\">\n     <g id=\"line2d_32\">\n      <g>\n       <use style=\"fill:#555555;stroke:#555555;stroke-width:0.8;\" x=\"70.459375\" xlink:href=\"#m72f2230237\" y=\"123.939375\"/>\n      </g>\n     </g>\n     <g id=\"text_32\">\n      <!-- limoncello -->\n      <g style=\"fill:#555555;\" transform=\"translate(12.379688 127.738594)scale(0.1 -0.1)\">\n       <use xlink:href=\"#DejaVuSans-108\"/>\n       <use x=\"27.783203\" xlink:href=\"#DejaVuSans-105\"/>\n       <use x=\"55.566406\" xlink:href=\"#DejaVuSans-109\"/>\n       <use x=\"152.978516\" xlink:href=\"#DejaVuSans-111\"/>\n       <use x=\"214.160156\" xlink:href=\"#DejaVuSans-110\"/>\n       <use x=\"277.539062\" xlink:href=\"#DejaVuSans-99\"/>\n       <use x=\"332.519531\" xlink:href=\"#DejaVuSans-101\"/>\n       <use x=\"394.042969\" xlink:href=\"#DejaVuSans-108\"/>\n       <use x=\"421.826172\" xlink:href=\"#DejaVuSans-108\"/>\n       <use x=\"449.609375\" xlink:href=\"#DejaVuSans-111\"/>\n      </g>\n     </g>\n    </g>\n    <g id=\"ytick_13\">\n     <g id=\"line2d_33\">\n      <g>\n       <use style=\"fill:#555555;stroke:#555555;stroke-width:0.8;\" x=\"70.459375\" xlink:href=\"#m72f2230237\" y=\"134.090625\"/>\n      </g>\n     </g>\n     <g id=\"text_33\">\n      <!-- amaretti -->\n      <g style=\"fill:#555555;\" transform=\"translate(20.804688 137.889844)scale(0.1 -0.1)\">\n       <use xlink:href=\"#DejaVuSans-97\"/>\n       <use x=\"61.279297\" xlink:href=\"#DejaVuSans-109\"/>\n       <use x=\"158.691406\" xlink:href=\"#DejaVuSans-97\"/>\n       <use x=\"219.970703\" xlink:href=\"#DejaVuSans-114\"/>\n       <use x=\"258.833984\" xlink:href=\"#DejaVuSans-101\"/>\n       <use x=\"320.357422\" xlink:href=\"#DejaVuSans-116\"/>\n       <use x=\"359.566406\" xlink:href=\"#DejaVuSans-116\"/>\n       <use x=\"398.775391\" xlink:href=\"#DejaVuSans-105\"/>\n      </g>\n     </g>\n    </g>\n    <g id=\"ytick_14\">\n     <g id=\"line2d_34\">\n      <g>\n       <use style=\"fill:#555555;stroke:#555555;stroke-width:0.8;\" x=\"70.459375\" xlink:href=\"#m72f2230237\" y=\"144.241875\"/>\n      </g>\n     </g>\n     <g id=\"text_34\">\n      <!-- water -->\n      <g style=\"fill:#555555;\" transform=\"translate(34.96875 148.041094)scale(0.1 -0.1)\">\n       <use xlink:href=\"#DejaVuSans-119\"/>\n       <use x=\"81.787109\" xlink:href=\"#DejaVuSans-97\"/>\n       <use x=\"143.066406\" xlink:href=\"#DejaVuSans-116\"/>\n       <use x=\"182.275391\" xlink:href=\"#DejaVuSans-101\"/>\n       <use x=\"243.798828\" xlink:href=\"#DejaVuSans-114\"/>\n      </g>\n     </g>\n    </g>\n    <g id=\"ytick_15\">\n     <g id=\"line2d_35\">\n      <g>\n       <use style=\"fill:#555555;stroke:#555555;stroke-width:0.8;\" x=\"70.459375\" xlink:href=\"#m72f2230237\" y=\"154.393125\"/>\n      </g>\n     </g>\n     <g id=\"text_35\">\n      <!-- whiskey -->\n      <g style=\"fill:#555555;\" transform=\"translate(23.45625 158.192344)scale(0.1 -0.1)\">\n       <use xlink:href=\"#DejaVuSans-119\"/>\n       <use x=\"81.787109\" xlink:href=\"#DejaVuSans-104\"/>\n       <use x=\"145.166016\" xlink:href=\"#DejaVuSans-105\"/>\n       <use x=\"172.949219\" xlink:href=\"#DejaVuSans-115\"/>\n       <use x=\"225.048828\" xlink:href=\"#DejaVuSans-107\"/>\n       <use x=\"279.333984\" xlink:href=\"#DejaVuSans-101\"/>\n       <use x=\"340.857422\" xlink:href=\"#DejaVuSans-121\"/>\n      </g>\n     </g>\n    </g>\n    <g id=\"ytick_16\">\n     <g id=\"line2d_36\">\n      <g>\n       <use style=\"fill:#555555;stroke:#555555;stroke-width:0.8;\" x=\"70.459375\" xlink:href=\"#m72f2230237\" y=\"164.544375\"/>\n      </g>\n     </g>\n     <g id=\"text_36\">\n      <!-- clementine -->\n      <g style=\"fill:#555555;\" transform=\"translate(7.609375 168.343594)scale(0.1 -0.1)\">\n       <use xlink:href=\"#DejaVuSans-99\"/>\n       <use x=\"54.980469\" xlink:href=\"#DejaVuSans-108\"/>\n       <use x=\"82.763672\" xlink:href=\"#DejaVuSans-101\"/>\n       <use x=\"144.287109\" xlink:href=\"#DejaVuSans-109\"/>\n       <use x=\"241.699219\" xlink:href=\"#DejaVuSans-101\"/>\n       <use x=\"303.222656\" xlink:href=\"#DejaVuSans-110\"/>\n       <use x=\"366.601562\" xlink:href=\"#DejaVuSans-116\"/>\n       <use x=\"405.810547\" xlink:href=\"#DejaVuSans-105\"/>\n       <use x=\"433.59375\" xlink:href=\"#DejaVuSans-110\"/>\n       <use x=\"496.972656\" xlink:href=\"#DejaVuSans-101\"/>\n      </g>\n     </g>\n    </g>\n    <g id=\"ytick_17\">\n     <g id=\"line2d_37\">\n      <g>\n       <use style=\"fill:#555555;stroke:#555555;stroke-width:0.8;\" x=\"70.459375\" xlink:href=\"#m72f2230237\" y=\"174.695625\"/>\n      </g>\n     </g>\n     <g id=\"text_37\">\n      <!-- cheddar -->\n      <g style=\"fill:#555555;\" transform=\"translate(22.534375 178.494844)scale(0.1 -0.1)\">\n       <use xlink:href=\"#DejaVuSans-99\"/>\n       <use x=\"54.980469\" xlink:href=\"#DejaVuSans-104\"/>\n       <use x=\"118.359375\" xlink:href=\"#DejaVuSans-101\"/>\n       <use x=\"179.882812\" xlink:href=\"#DejaVuSans-100\"/>\n       <use x=\"243.359375\" xlink:href=\"#DejaVuSans-100\"/>\n       <use x=\"306.835938\" xlink:href=\"#DejaVuSans-97\"/>\n       <use x=\"368.115234\" xlink:href=\"#DejaVuSans-114\"/>\n      </g>\n     </g>\n    </g>\n    <g id=\"ytick_18\">\n     <g id=\"line2d_38\">\n      <g>\n       <use style=\"fill:#555555;stroke:#555555;stroke-width:0.8;\" x=\"70.459375\" xlink:href=\"#m72f2230237\" y=\"184.846875\"/>\n      </g>\n     </g>\n     <g id=\"text_38\">\n      <!-- gruyère -->\n      <g style=\"fill:#555555;\" transform=\"translate(24.551563 188.846094)scale(0.1 -0.1)\">\n       <use xlink:href=\"#DejaVuSans-103\"/>\n       <use x=\"63.476562\" xlink:href=\"#DejaVuSans-114\"/>\n       <use x=\"104.589844\" xlink:href=\"#DejaVuSans-117\"/>\n       <use x=\"167.96875\" xlink:href=\"#DejaVuSans-121\"/>\n       <use x=\"227.148438\" xlink:href=\"#DejaVuSans-232\"/>\n       <use x=\"288.671875\" xlink:href=\"#DejaVuSans-114\"/>\n       <use x=\"327.535156\" xlink:href=\"#DejaVuSans-101\"/>\n      </g>\n     </g>\n    </g>\n    <g id=\"ytick_19\">\n     <g id=\"line2d_39\">\n      <g>\n       <use style=\"fill:#555555;stroke:#555555;stroke-width:0.8;\" x=\"70.459375\" xlink:href=\"#m72f2230237\" y=\"194.998125\"/>\n      </g>\n     </g>\n     <g id=\"text_39\">\n      <!-- pinenuts -->\n      <g style=\"fill:#555555;\" transform=\"translate(20.0375 198.797344)scale(0.1 -0.1)\">\n       <use xlink:href=\"#DejaVuSans-112\"/>\n       <use x=\"63.476562\" xlink:href=\"#DejaVuSans-105\"/>\n       <use x=\"91.259766\" xlink:href=\"#DejaVuSans-110\"/>\n       <use x=\"154.638672\" xlink:href=\"#DejaVuSans-101\"/>\n       <use x=\"216.162109\" xlink:href=\"#DejaVuSans-110\"/>\n       <use x=\"279.541016\" xlink:href=\"#DejaVuSans-117\"/>\n       <use x=\"342.919922\" xlink:href=\"#DejaVuSans-116\"/>\n       <use x=\"382.128906\" xlink:href=\"#DejaVuSans-115\"/>\n      </g>\n     </g>\n    </g>\n    <g id=\"ytick_20\">\n     <g id=\"line2d_40\">\n      <g>\n       <use style=\"fill:#555555;stroke:#555555;stroke-width:0.8;\" x=\"70.459375\" xlink:href=\"#m72f2230237\" y=\"205.149375\"/>\n      </g>\n     </g>\n     <g id=\"text_40\">\n      <!-- spaghettini -->\n      <g style=\"fill:#555555;\" transform=\"translate(7.2 208.948594)scale(0.1 -0.1)\">\n       <use xlink:href=\"#DejaVuSans-115\"/>\n       <use x=\"52.099609\" xlink:href=\"#DejaVuSans-112\"/>\n       <use x=\"115.576172\" xlink:href=\"#DejaVuSans-97\"/>\n       <use x=\"176.855469\" xlink:href=\"#DejaVuSans-103\"/>\n       <use x=\"240.332031\" xlink:href=\"#DejaVuSans-104\"/>\n       <use x=\"303.710938\" xlink:href=\"#DejaVuSans-101\"/>\n       <use x=\"365.234375\" xlink:href=\"#DejaVuSans-116\"/>\n       <use x=\"404.443359\" xlink:href=\"#DejaVuSans-116\"/>\n       <use x=\"443.652344\" xlink:href=\"#DejaVuSans-105\"/>\n       <use x=\"471.435547\" xlink:href=\"#DejaVuSans-110\"/>\n       <use x=\"534.814453\" xlink:href=\"#DejaVuSans-105\"/>\n      </g>\n     </g>\n    </g>\n   </g>\n   <g id=\"patch_3\">\n    <path d=\"M 70.459375 210.225 \nL 70.459375 7.2 \n\" style=\"fill:none;stroke:#ffffff;stroke-linecap:square;stroke-linejoin:miter;\"/>\n   </g>\n   <g id=\"patch_4\">\n    <path d=\"M 273.484375 210.225 \nL 273.484375 7.2 \n\" style=\"fill:none;stroke:#ffffff;stroke-linecap:square;stroke-linejoin:miter;\"/>\n   </g>\n   <g id=\"patch_5\">\n    <path d=\"M 70.459375 210.225 \nL 273.484375 210.225 \n\" style=\"fill:none;stroke:#ffffff;stroke-linecap:square;stroke-linejoin:miter;\"/>\n   </g>\n   <g id=\"patch_6\">\n    <path d=\"M 70.459375 7.2 \nL 273.484375 7.2 \n\" style=\"fill:none;stroke:#ffffff;stroke-linecap:square;stroke-linejoin:miter;\"/>\n   </g>\n  </g>\n </g>\n <defs>\n  <clipPath id=\"pec1903613c\">\n   <rect height=\"203.025\" width=\"203.025\" x=\"70.459375\" y=\"7.2\"/>\n  </clipPath>\n </defs>\n</svg>\n"
          },
          "metadata": {
            "tags": []
          }
        }
      ]
    },
    {
      "cell_type": "markdown",
      "metadata": {
        "id": "g-EUCAKT9Jpz"
      },
      "source": [
        "## Visualization w/ Plotly"
      ]
    },
    {
      "cell_type": "code",
      "metadata": {
        "id": "geqMysYU9Igq"
      },
      "source": [
        "import plotly.graph_objects as go\n",
        "from plotly.offline import plot\n",
        "import networkx as nx"
      ],
      "execution_count": 67,
      "outputs": []
    },
    {
      "cell_type": "code",
      "metadata": {
        "id": "b0Y5OGQl9Y83"
      },
      "source": [
        "indices = np.argwhere(sims>0.6)"
      ],
      "execution_count": 69,
      "outputs": []
    },
    {
      "cell_type": "code",
      "metadata": {
        "id": "YjtfSnmI-B4p"
      },
      "source": [
        "G = nx.Graph()\n",
        "\n",
        "for index in indices:\n",
        "  G.add_edge(words[index[0]], words[index[1]], \n",
        "             weight = sims[index[0],index[1]])"
      ],
      "execution_count": 74,
      "outputs": []
    },
    {
      "cell_type": "code",
      "metadata": {
        "id": "3wYbG178--dx",
        "outputId": "dedc89fe-2c0a-4b17-ecc0-cda70f32ea09",
        "colab": {
          "base_uri": "https://localhost:8080/",
          "height": 35
        }
      },
      "source": [
        "weight_values = nx.get_edge_attributes(G, 'weight')\n",
        "weight_values[('eggs','egg')]"
      ],
      "execution_count": 77,
      "outputs": [
        {
          "output_type": "execute_result",
          "data": {
            "text/plain": [
              "0.77520424"
            ]
          },
          "metadata": {
            "tags": []
          },
          "execution_count": 77
        }
      ]
    },
    {
      "cell_type": "code",
      "metadata": {
        "id": "khC1pVgr_O23"
      },
      "source": [
        "positions = nx.spring_layout(G)"
      ],
      "execution_count": 79,
      "outputs": []
    },
    {
      "cell_type": "code",
      "metadata": {
        "id": "CU5ISd_2_t_-"
      },
      "source": [
        "nx.set_node_attributes(G, name = 'position', values = positions)"
      ],
      "execution_count": 80,
      "outputs": []
    },
    {
      "cell_type": "code",
      "metadata": {
        "id": "YGDaAbuv_3ip"
      },
      "source": [
        "edge_x = []\n",
        "edge_y = []\n",
        "weights = []\n",
        "ave_x, ave_y = [], []\n",
        "for edge in G.edges():\n",
        "    x0, y0 = G.nodes[edge[0]]['position']\n",
        "    x1, y1 = G.nodes[edge[1]]['position']\n",
        "    edge_x.append(x0)\n",
        "    edge_x.append(x1)\n",
        "    edge_x.append(None)\n",
        "    edge_y.append(y0)\n",
        "    edge_y.append(y1)\n",
        "    edge_y.append(None)\n",
        "    ave_x.append(np.mean([x0, x1]))\n",
        "    ave_y.append(np.mean([y0, y1]))\n",
        "    weights.append(f'{edge[0]}, {edge[1]}: {weight_values[(edge[0], edge[1])]}')\n",
        "\n",
        "edge_trace = go.Scatter(\n",
        "    x=edge_x, y=edge_y,\n",
        "    opacity=0.7,\n",
        "    line=dict(width=2, color='White'),\n",
        "    hoverinfo='text',\n",
        "    mode='lines')\n",
        "\n",
        "edge_trace.text = weights\n",
        "\n",
        "\n",
        "node_x = []\n",
        "node_y = []\n",
        "sizes = []\n",
        "for node in G.nodes():\n",
        "    x, y = G.nodes[node]['position']\n",
        "    node_x.append(x)\n",
        "    node_y.append(y)\n",
        "    sizes.append(20)\n",
        "\n",
        "node_trace = go.Scatter(\n",
        "    x=node_x, y=node_y,\n",
        "    mode='markers',\n",
        "    hoverinfo='text',\n",
        "    marker=dict(\n",
        "        showscale=True, line=dict(color='White'),\n",
        "        # colorscale options\n",
        "        #'Greys' | 'YlGnBu' | 'Greens' | 'YlOrRd' | 'Bluered' | 'RdBu' |\n",
        "        #'Reds' | 'Blues' | 'Picnic' | 'Rainbow' | 'Portland' | 'Jet' |\n",
        "        #'Hot' | 'Blackbody' | 'Earth' | 'Electric' | 'Viridis' |\n",
        "        colorscale='Picnic',reversescale=False,color=[],opacity=0.9,size=sizes,\n",
        "        colorbar=dict(thickness=15,title='Node Connections',xanchor='left', titleside='right'),\n",
        "        line_width=2\n",
        "    )\n",
        ")\n",
        "\n",
        "invisible_similarity_trace = go.Scatter(\n",
        "    x=ave_x, y=ave_y,\n",
        "    mode='markers',\n",
        "    hoverinfo='text',\n",
        "    marker=dict(\n",
        "        color=[],\n",
        "        opacity=0,\n",
        "    )\n",
        ")\n",
        "\n",
        "invisible_similarity_trace.text=weights"
      ],
      "execution_count": 85,
      "outputs": []
    },
    {
      "cell_type": "code",
      "metadata": {
        "id": "x_GDQBWpA0bE"
      },
      "source": [
        "node_adjacencies = []\n",
        "node_text = []\n",
        "for node, adjacencies in enumerate(G.adjacency()):\n",
        "    node_adjacencies.append(len(adjacencies[1]))\n",
        "    node_text.append(adjacencies[0])\n",
        "\n",
        "node_trace.marker.color = node_adjacencies\n",
        "node_trace.text = node_text"
      ],
      "execution_count": 86,
      "outputs": []
    },
    {
      "cell_type": "code",
      "metadata": {
        "id": "B10vY1jVA3Y5",
        "outputId": "563b1e82-46b3-4cfd-9f7c-3c3804735bdc",
        "colab": {
          "base_uri": "https://localhost:8080/",
          "height": 36
        }
      },
      "source": [
        "fig = go.Figure(\n",
        "    data=[edge_trace, node_trace, invisible_similarity_trace],\n",
        "    layout=go.Layout(\n",
        "        title='Network Graph of Word Embeddings',\n",
        "        template='plotly_dark',\n",
        "        titlefont_size=20,\n",
        "        showlegend=False,\n",
        "        hovermode='closest',\n",
        "        margin=dict(b=20,l=5,r=5,t=40),\n",
        "        annotations=[\n",
        "            dict(\n",
        "                text=\"Adapted from: <a href='https://plotly.com/ipython-notebooks/network-graphs/'> https://plotly.com/ipython-notebooks/network-graphs/</a>\",\n",
        "                showarrow=False,\n",
        "                xref=\"paper\", yref=\"paper\",\n",
        "                x=0.005, y=-0.002 ) \n",
        "        ],\n",
        "        xaxis=dict(showgrid=False, zeroline=False, showticklabels=False),\n",
        "        yaxis=dict(showgrid=False, zeroline=False, showticklabels=False)\n",
        "    )\n",
        ")\n",
        "\n",
        "plot(fig)"
      ],
      "execution_count": 87,
      "outputs": [
        {
          "output_type": "execute_result",
          "data": {
            "application/vnd.google.colaboratory.intrinsic+json": {
              "type": "string"
            },
            "text/plain": [
              "'temp-plot.html'"
            ]
          },
          "metadata": {
            "tags": []
          },
          "execution_count": 87
        }
      ]
    }
  ]
}